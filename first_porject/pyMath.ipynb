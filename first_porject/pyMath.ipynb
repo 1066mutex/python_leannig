{
 "cells": [
  {
   "cell_type": "code",
   "execution_count": 1,
   "metadata": {},
   "outputs": [
    {
     "name": "stdout",
     "output_type": "stream",
     "text": [
      "b'\\x0401M000\\x05y'\n"
     ]
    }
   ],
   "source": [
    "from ast import Bytes\n",
    "from multiprocessing.dummy import Array\n",
    "from array import *\n",
    "## uses a nonmutable byte array\n",
    "status = bytes(b'\\x04\\x30\\x31\\x4D\\x30\\x30\\x30\\x05\\x79')\n",
    "#status = array('u',['EOT','0','1','G','0','0','0','ETX','u'])\n",
    "print(status)"
   ]
  }
 ],
 "metadata": {
  "kernelspec": {
   "display_name": "Python 3",
   "language": "python",
   "name": "python3"
  },
  "language_info": {
   "codemirror_mode": {
    "name": "ipython",
    "version": 3
   },
   "file_extension": ".py",
   "mimetype": "text/x-python",
   "name": "python",
   "nbconvert_exporter": "python",
   "pygments_lexer": "ipython3",
   "version": "3.11.4"
  },
  "orig_nbformat": 4
 },
 "nbformat": 4,
 "nbformat_minor": 2
}
